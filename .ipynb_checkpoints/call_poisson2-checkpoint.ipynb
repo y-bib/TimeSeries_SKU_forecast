{
 "cells": [
  {
   "cell_type": "code",
   "execution_count": null,
   "id": "350c7843-e91e-4f2d-b3f8-c4f0af4e2a55",
   "metadata": {},
   "outputs": [],
   "source": [
    "from bs4 import BeautifulSoup\n",
    "import pandas as pd\n",
    "import matplotlib.pyplot as plt\n",
    "import seaborn as sns\n",
    "import numpy as np\n",
    "import os\n",
    "\n",
    "import statsmodels.api as sm # for poisson regression\n",
    "import statsmodels.formula.api as smf\n",
    "\n",
    "from statsmodels.tsa.statespace.structural import UnobservedComponents # for state space method\n",
    "\n",
    "import xgboost as xgb #for xboost\n",
    "\n",
    "#import import_ipynb\n",
    "from poisson_custom import process_sku\n",
    "# import import_ipynb\n",
    "\n",
    "# from poisson_custom import sku_extract, zscore, plot_zscore, cap_outliners, plot_cap_outliers,date_split, means_and_corr\n",
    "# from poisson_custom import poisson_regression,poisson_regression2"
   ]
  },
  {
   "cell_type": "markdown",
   "id": "05c87792-39fe-4188-ad4d-c4d82bbb79b7",
   "metadata": {},
   "source": [
    "## SKU bunch"
   ]
  },
  {
   "cell_type": "code",
   "execution_count": null,
   "id": "063fd89b-8a8d-48fb-9ab8-c6d95a2e22c9",
   "metadata": {},
   "outputs": [],
   "source": [
    "\n",
    "filename = f\"data/mock_test.csv\"\n",
    "df = pd.DataFrame()\n",
    "df = pd.read_csv(filename,sep=',')\n",
    "SKU_list = df['ITEM_CODE'].unique()\n",
    "\n",
    "filename_out = f\"data/mock_out.csv\"\n",
    "try:\n",
    "    os.remove(filename_out)\n",
    "except FileNotFoundError:\n",
    "    pass"
   ]
  },
  {
   "cell_type": "code",
   "execution_count": null,
   "id": "f4e14192-0616-4aba-a0a5-31bc5bc38262",
   "metadata": {
    "scrolled": true
   },
   "outputs": [],
   "source": [
    "for SKU in SKU_list:\n",
    "    _ = process_sku(df, SKU)"
   ]
  },
  {
   "cell_type": "code",
   "execution_count": null,
   "id": "baf76048-a80d-4587-be2e-0eeffcf8e5c1",
   "metadata": {},
   "outputs": [],
   "source": []
  },
  {
   "cell_type": "code",
   "execution_count": null,
   "id": "c535e39c-7400-46df-896e-7dcb35709216",
   "metadata": {},
   "outputs": [],
   "source": []
  },
  {
   "cell_type": "code",
   "execution_count": null,
   "id": "3c5d8e31-1505-41c1-a87b-76de77f55dfc",
   "metadata": {},
   "outputs": [],
   "source": []
  }
 ],
 "metadata": {
  "kernelspec": {
   "display_name": "Python 3 (ipykernel)",
   "language": "python",
   "name": "python3"
  },
  "language_info": {
   "codemirror_mode": {
    "name": "ipython",
    "version": 3
   },
   "file_extension": ".py",
   "mimetype": "text/x-python",
   "name": "python",
   "nbconvert_exporter": "python",
   "pygments_lexer": "ipython3",
   "version": "3.11.13"
  }
 },
 "nbformat": 4,
 "nbformat_minor": 5
}
